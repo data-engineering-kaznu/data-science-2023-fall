{
 "cells": [
  {
   "cell_type": "code",
   "execution_count": 1,
   "id": "6d736f46",
   "metadata": {},
   "outputs": [
    {
     "name": "stdout",
     "output_type": "stream",
     "text": [
      "CSV файл newdata.csv успешно создан.\n",
      "       year  region   value\n",
      "0  2020-Feb  Almaty  130500\n",
      "1  2021-Feb  Almaty  150500\n",
      "2  2022-Mar  ALmaty  150500\n",
      "3  2022-Mar  Almaty  150500\n"
     ]
    }
   ],
   "source": [
    "import pandas as pd\n",
    "\n",
    "# Создаем данные в форме словаря\n",
    "data = {\n",
    "    'year': ['2020-Feb', '2021-Feb','2022-Mar','2022-Mar'],\n",
    "    'region': ['Almaty', 'Almaty','ALmaty','Almaty'],\n",
    "    'value': ['130500', '150500', '150500','150500']\n",
    "}\n",
    "\n",
    "# Создаем DataFrame из данных\n",
    "df = pd.DataFrame(data)\n",
    "\n",
    "# Указываем имя файла для записи\n",
    "file_name = \"newdata.csv\"\n",
    "\n",
    "# Записываем DataFrame в CSV файл\n",
    "df.to_csv(file_name, index=False)\n",
    "\n",
    "print(f\"CSV файл {file_name} успешно создан.\")\n",
    "\n",
    "# Чтение CSV файла и вывод его содержимого\n",
    "read_df = pd.read_csv(file_name)\n",
    "print(read_df)"
   ]
  },
  {
   "cell_type": "code",
   "execution_count": 3,
   "id": "bb946dcf",
   "metadata": {},
   "outputs": [
    {
     "name": "stdout",
     "output_type": "stream",
     "text": [
      "         year  region   value\n",
      "0  2020-02-01  Almaty  130500\n",
      "1  2021-02-01  Almaty  150500\n",
      "2  2022-03-01  ALmaty  150500\n",
      "3  2022-03-01  Almaty  150500\n"
     ]
    }
   ],
   "source": [
    "import pandas as pd\n",
    "from datetime import datetime\n",
    "\n",
    "data = {\n",
    "    'year': ['2020-Feb', '2021-Feb','2022-Mar','2022-Mar'],\n",
    "    'region': ['Almaty', 'Almaty','ALmaty','Almaty'],\n",
    "    'value': ['130500', '150500', '150500','150500']\n",
    "}\n",
    "\n",
    "# Создание DataFrame из словаря\n",
    "df = pd.DataFrame(data)\n",
    "\n",
    "# Преобразование формата даты\n",
    "df['year'] = pd.to_datetime(df['year'], format='%Y-%b')\n",
    "df['year'] = df['year'].dt.strftime('%Y-%m-%d')\n",
    "\n",
    "# Запись в CSV файл\n",
    "df.to_csv('output.csv', index=False)\n",
    "print(df)"
   ]
  },
  {
   "cell_type": "code",
   "execution_count": null,
   "id": "771a9cb2",
   "metadata": {},
   "outputs": [],
   "source": []
  }
 ],
 "metadata": {
  "kernelspec": {
   "display_name": "Python 3 (ipykernel)",
   "language": "python",
   "name": "python3"
  },
  "language_info": {
   "codemirror_mode": {
    "name": "ipython",
    "version": 3
   },
   "file_extension": ".py",
   "mimetype": "text/x-python",
   "name": "python",
   "nbconvert_exporter": "python",
   "pygments_lexer": "ipython3",
   "version": "3.11.4"
  }
 },
 "nbformat": 4,
 "nbformat_minor": 5
}
