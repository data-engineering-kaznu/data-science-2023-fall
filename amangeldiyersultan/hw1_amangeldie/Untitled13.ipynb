{
 "cells": [
  {
   "cell_type": "code",
   "execution_count": 1,
   "id": "08bec54b",
   "metadata": {},
   "outputs": [],
   "source": [
    "import csv\n",
    "\n",
    "with open('tr.csv', 'w', newline='') as file:\n",
    "    writer = csv.writer(file)\n",
    "    field = [\"year\", \"region\", \"value\"]\n",
    "    \n",
    "    writer.writerow(field)\n",
    "    writer.writerow([\"2020\", \"Almaty\", \"130050\"])\n",
    "    writer.writerow([\"2021\", \"Almaty\", \"130050\"])"
   ]
  },
  {
   "cell_type": "code",
   "execution_count": 10,
   "id": "9abaf779",
   "metadata": {},
   "outputs": [],
   "source": [
    "import csv\n",
    "\n",
    "with open('tr2.csv', 'w', newline='') as file:\n",
    "    writer = csv.writer(file)\n",
    "    field = [\"year\", \"region\", \"value\"]"
   ]
  },
  {
   "cell_type": "code",
   "execution_count": 8,
   "id": "cf424689",
   "metadata": {},
   "outputs": [
    {
     "name": "stdout",
     "output_type": "stream",
     "text": [
      "['year', 'region', 'value']\n",
      "['2020', 'Almaty', '130050']\n",
      "['2021', 'Almaty', '130050']\n"
     ]
    }
   ],
   "source": [
    "with open('tr.csv', 'r', newline='') as csvfile:\n",
    "    csvreader = csv.reader(csvfile)\n",
    "    \n",
    "    for row in csvreader:\n",
    "        print(row)"
   ]
  },
  {
   "cell_type": "code",
   "execution_count": 14,
   "id": "93aac102",
   "metadata": {},
   "outputs": [],
   "source": [
    "import csv\n",
    "from datetime import datetime\n",
    "\n",
    "input_file_path = 'tr.csv'\n",
    "output_file_path = 'tr3.csv'\n",
    "\n",
    "date_column_index = 0 \n",
    "\n",
    "current_date_format = '%Y' \n",
    "\n",
    "new_date_format = '%Y-%m-%d'\n",
    "\n",
    "with open(input_file_path, 'r', newline='') as input_file, \\\n",
    "     open(output_file_path, 'w', newline='') as output_file:\n",
    "    \n",
    "    csvreader = csv.reader(input_file)\n",
    "    csvwriter = csv.writer(output_file)\n",
    "    \n",
    "    for row in csvreader:\n",
    "        try:\n",
    "            old_date_str = row[0]\n",
    "            new_date_str = datetime.strptime(old_date_str, current_date_format).strftime(new_date_format)\n",
    "            \n",
    "            row[0] = new_date_str\n",
    "            \n",
    "            csvwriter.writerow(row)\n",
    "        except ValueError:\n",
    "            \n",
    "            csvwriter.writerow(row)"
   ]
  },
  {
   "cell_type": "code",
   "execution_count": 15,
   "id": "53f54305",
   "metadata": {},
   "outputs": [
    {
     "name": "stdout",
     "output_type": "stream",
     "text": [
      "['year', 'region', 'value']\n",
      "['2020-01-01', 'Almaty', '130050']\n",
      "['2021-01-01', 'Almaty', '130050']\n"
     ]
    }
   ],
   "source": [
    "with open('tr3.csv', 'r', newline='') as csvfile:\n",
    "    csvreader = csv.reader(csvfile)\n",
    "    \n",
    "    for row in csvreader:\n",
    "       \n",
    "        print(row)"
   ]
  }
 ],
 "metadata": {
  "kernelspec": {
   "display_name": "Python 3 (ipykernel)",
   "language": "python",
   "name": "python3"
  },
  "language_info": {
   "codemirror_mode": {
    "name": "ipython",
    "version": 3
   },
   "file_extension": ".py",
   "mimetype": "text/x-python",
   "name": "python",
   "nbconvert_exporter": "python",
   "pygments_lexer": "ipython3",
   "version": "3.9.7"
  }
 },
 "nbformat": 4,
 "nbformat_minor": 5
}
